{
  "nbformat": 4,
  "nbformat_minor": 0,
  "metadata": {
    "colab": {
      "provenance": []
    },
    "kernelspec": {
      "name": "python3",
      "display_name": "Python 3"
    },
    "language_info": {
      "name": "python"
    }
  },
  "cells": [
    {
      "cell_type": "code",
      "execution_count": null,
      "metadata": {
        "colab": {
          "base_uri": "https://localhost:8080/"
        },
        "id": "0friixBaZEmF",
        "outputId": "f5e00c2c-4acc-4dea-d644-a6058a6a5ce8"
      },
      "outputs": [
        {
          "output_type": "stream",
          "name": "stdout",
          "text": [
            "Hello, Selamat Pagi\n"
          ]
        }
      ],
      "source": [
        "# Membuat Fungsi\n",
        "def salam():\n",
        "    print (\"Hello, Selamat Pagi\")\n",
        "\n",
        "## Pemanggilan Fungsi\n",
        "salam()"
      ]
    },
    {
      "cell_type": "code",
      "source": [
        "# Membuat Fungsi\n",
        "def salam():\n",
        "    print (\"Hello, Selamat Pagi\")\n",
        "\n",
        "## Pemanggilan Fungsi\n",
        "salam()\n",
        "salam()\n",
        "salam()"
      ],
      "metadata": {
        "colab": {
          "base_uri": "https://localhost:8080/"
        },
        "id": "GqN21VTba1Qg",
        "outputId": "b324df22-ce19-41a2-ef8e-09e315b45e66"
      },
      "execution_count": null,
      "outputs": [
        {
          "output_type": "stream",
          "name": "stdout",
          "text": [
            "Hello, Selamat Pagi\n",
            "Hello, Selamat Pagi\n",
            "Hello, Selamat Pagi\n"
          ]
        }
      ]
    },
    {
      "cell_type": "code",
      "source": [
        "#pemanggilan fungsi parameter\n",
        "def salam(ucapan):\n",
        "    print(ucapan)\n",
        "salam(\"Selamat Siang\")"
      ],
      "metadata": {
        "colab": {
          "base_uri": "https://localhost:8080/"
        },
        "id": "M1j1Dpybb5QI",
        "outputId": "dd7c79d9-b3fb-4ca1-de38-0437feb695a4"
      },
      "execution_count": null,
      "outputs": [
        {
          "output_type": "stream",
          "name": "stdout",
          "text": [
            "Selamat Siang\n"
          ]
        }
      ]
    },
    {
      "cell_type": "code",
      "source": [
        "# Membuat fungsi dengan parameter\n",
        "def luas_segitiga(alas, tinggi):\n",
        "    luas = (alas * tinggi) / 2\n",
        "    print (\"Luas segitiga: %f\" % luas)\n",
        "\n",
        "# pemanggilan fungsi\n",
        "luas_segitiga(4, 6)"
      ],
      "metadata": {
        "colab": {
          "base_uri": "https://localhost:8080/"
        },
        "id": "twJhj3kvcaXK",
        "outputId": "6c6a0013-3e1e-4ab9-c3d8-398c646688da"
      },
      "execution_count": null,
      "outputs": [
        {
          "output_type": "stream",
          "name": "stdout",
          "text": [
            "Luas segitiga: 12.000000\n"
          ]
        }
      ]
    },
    {
      "cell_type": "code",
      "source": [
        "def luas_persegi(sisi):\n",
        "    luas = sisi * sisi\n",
        "    return luas\n",
        "\n",
        "# pemanggilan fungsi\n",
        "print (\"Luas persegi: %d\" % luas_persegi(6))"
      ],
      "metadata": {
        "colab": {
          "base_uri": "https://localhost:8080/"
        },
        "id": "86tB2hMqdK1x",
        "outputId": "2b993801-1cd2-408e-9bea-9ccaf6bba304"
      },
      "execution_count": null,
      "outputs": [
        {
          "output_type": "stream",
          "name": "stdout",
          "text": [
            "Luas persegi: 36\n"
          ]
        }
      ]
    },
    {
      "cell_type": "code",
      "source": [
        "# membuat variabel global\n",
        "nama = \"Belajar kode\"\n",
        "versi = \"1.0.0\"\n",
        "\n",
        "def help():\n",
        "    # ini variable lokal\n",
        "    nama = \"programku\"\n",
        "    versi = \"1.0.1\"\n",
        "    # mengakses variabel lokal\n",
        "    print (\"Nama: %s\" % nama)\n",
        "    print (\"versi: %s\" % versi)\n",
        "\n",
        "# mengakses variabel global\n",
        "print (\"Nama: %s\" % nama)\n",
        "print (\"Versi: %s\" % versi)\n",
        "\n",
        "# memanggil fungsi help()\n",
        "help()"
      ],
      "metadata": {
        "colab": {
          "base_uri": "https://localhost:8080/"
        },
        "id": "a0rPZchdd_04",
        "outputId": "3d39eec1-e1da-4367-a2d6-8a8d70d0e735"
      },
      "execution_count": null,
      "outputs": [
        {
          "output_type": "stream",
          "name": "stdout",
          "text": [
            "Nama: Belajar kode\n",
            "Versi: 1.0.0\n",
            "Nama: programku\n",
            "versi: 1.0.1\n"
          ]
        }
      ]
    },
    {
      "cell_type": "code",
      "source": [
        "nama = \"Yilita Oktavia\"\n",
        "tanggal_lahir = \"25 oktober 2005\"\n",
        "alamat = \"mangkol\"\n",
        "tempat_lahir = \"bangka tengah\"\n",
        "jurusan = \"ilmu komputer\"\n",
        "hobi = \"voly, badminton\"\n",
        "\n",
        "print (\"nama: %s\" % nama)\n",
        "print (\"tanggal_lahir: %s\" % tanggal_lahir)\n",
        "print (\"tempat_lahir: %s\" % tempat_lahir)\n",
        "print (\"alamat: %s\" % alamat)\n",
        "print (\" jurusan: %s\" % jurusan)\n",
        "print (\"hobi: %s\" % hobi)"
      ],
      "metadata": {
        "colab": {
          "base_uri": "https://localhost:8080/"
        },
        "id": "4TaKM96YjC2p",
        "outputId": "14b28b3d-18d7-48d7-d9e6-af041c32e399"
      },
      "execution_count": null,
      "outputs": [
        {
          "output_type": "stream",
          "name": "stdout",
          "text": [
            "nama: Yilita Oktavia\n",
            "tanggal_lahir: 25 oktober 2005\n",
            "tempat_lahir: bangka tengah\n",
            "alamat: mangkol\n",
            " jurusan: ilmu komputer\n",
            "hobi: voly, badminton\n"
          ]
        }
      ]
    },
    {
      "cell_type": "code",
      "source": [
        "# membuat variabel global\n",
        "nama = \"Nama, tanggal lahir\"\n",
        "versi = \"yilita, 25 oktober 2005\"\n",
        "\n",
        "def help():\n",
        "    # ini variable lokal\n",
        "    nama = \"biodata hobi, jurusan, tempat tinggal\"\n",
        "    versi = \"Voly ball, ilmu komputer, mangkol\"\n",
        "    # mengakses variabel lokal\n",
        "    print (\"Nama: %s\" % nama)\n",
        "    print (\"versi: %s\" % versi)\n",
        "\n",
        "# mengakses variabel global\n",
        "print (\"Nama: %s\" % nama)\n",
        "print (\"Versi: %s\" % versi)\n",
        "\n",
        "# memanggil fungsi help()\n",
        "help()"
      ],
      "metadata": {
        "colab": {
          "base_uri": "https://localhost:8080/"
        },
        "id": "hV2Y9fdrmshS",
        "outputId": "7e8a36b1-0e55-4acc-d7b8-99bd93395e6a"
      },
      "execution_count": null,
      "outputs": [
        {
          "output_type": "stream",
          "name": "stdout",
          "text": [
            "Nama: Nama, tanggal lahir\n",
            "Versi: yilita, 25 oktober 2005\n",
            "Nama: biodata hobi, jurusan, tempat tinggal\n",
            "versi: Voly ball, ilmu komputer, mangkol\n"
          ]
        }
      ]
    },
    {
      "cell_type": "code",
      "source": [
        "buku=[]# fungsi untuk menampilkan semua data\n",
        "def show_data():\n",
        "    if len(buku) <= 0:\n",
        "        print(\"BELUM ADA DATA\")\n",
        "    else:\n",
        "        for indeks in range(len(buku)):\n",
        "            print(\"[{}]] {}\".format(indeks, buku[indeks]))\n",
        "\n",
        "# fungsi untuk menambah data\n",
        "def insert_data():\n",
        "    buku_baru = input(\"Judul Buku: \")\n",
        "    buku.append(buku_baru)\n",
        "\n",
        "# fungsi untuk edit data\n",
        "def edit_data():\n",
        "    show_data()\n",
        "    indeks = int(input(\"Inputkan ID buku: \"))\n",
        "    if indeks > len(buku):\n",
        "        print(\"ID salah\")\n",
        "    else:\n",
        "      judul_buku = input(\"Judul baru: \")\n",
        "      buku[indeks] = judul_baru\n",
        "\n",
        "# fungsi untuk edit data\n",
        "def delete_data():\n",
        "    show_data()\n",
        "    indeks = int(input(\"Inputkan ID buku: \"))\n",
        "    if indeks > len(buku):\n",
        "        print(\"ID salah\")\n",
        "    else:\n",
        "      buku.remove(buku[indeks])\n",
        "\n",
        "# fungsi untuk menampilkan menu\n",
        "def show_menu():\n",
        "    print(\"\\n\")\n",
        "    print(\".......... Menu ..........\")\n",
        "    print(\"[1] Show Data\")\n",
        "    print(\"[2] Insert data\")\n",
        "    print(\"[3] Edit Data\")\n",
        "    print(\"[4] Delete Data\")\n",
        "    print(\"[5] Exit\")\n",
        "\n",
        "    menu = input(\"Pilih Menu> \")\n",
        "    print(\"\\n\")\n",
        "\n",
        "\n"
      ],
      "metadata": {
        "id": "JMBiXtUs0j4f"
      },
      "execution_count": null,
      "outputs": []
    },
    {
      "cell_type": "code",
      "source": [
        "# fungsi untuk menampilkan semua data\n",
        "def show_data():\n",
        "    if len(buku) <= 0:\n",
        "        print(\"BELUM ADA DATA\")\n",
        "    else:\n",
        "        for indeks in range(len(buku)):\n",
        "            print(\"[{}]] {}\".format(indeks, buku[indeks]))"
      ],
      "metadata": {
        "id": "l9NyTkk4gkPB"
      },
      "execution_count": null,
      "outputs": []
    },
    {
      "cell_type": "code",
      "source": [
        "# fungsi untuk menambah data\n",
        "def insert_data():\n",
        "    buku_baru = input(\"Judul Buku: \")\n",
        "    buku.append(buku_baru)"
      ],
      "metadata": {
        "id": "pfz7WF3XpFdk"
      },
      "execution_count": null,
      "outputs": []
    },
    {
      "cell_type": "code",
      "source": [
        "# fungsi untuk edit data\n",
        "def edit_data():\n",
        "    show_data()\n",
        "    indeks = int(input(\"Inputkan ID buku: \"))\n",
        "    if indeks > len(buku):\n",
        "        print(\"ID salah\")\n",
        "    else:\n",
        "      judul_buku = input(\"Judul baru: \")\n",
        "      buku[indeks] = judul_baru"
      ],
      "metadata": {
        "id": "4IENfWoIptLe"
      },
      "execution_count": null,
      "outputs": []
    },
    {
      "cell_type": "code",
      "source": [
        "# fungsi untuk edit data\n",
        "def delete_data():\n",
        "    show_data()\n",
        "    indeks = int(input(\"Inputkan ID buku: \"))\n",
        "    if indeks > len(buku):\n",
        "        print(\"ID salah\")\n",
        "    else:\n",
        "      buku.remove(buku[indeks])"
      ],
      "metadata": {
        "id": "73StEcQfsSIe"
      },
      "execution_count": null,
      "outputs": []
    },
    {
      "cell_type": "code",
      "source": [
        "# fungsi untuk menampilkan menu\n",
        "def show_menu():\n",
        "    print(\"\\n\")\n",
        "    print(\".......... Menu ..........\")\n",
        "    print(\"[1] Show Data\")\n",
        "    print(\"[2] Insert data\")\n",
        "    print(\"[3] Edit Data\")\n",
        "    print(\"[4] Delete Data\")\n",
        "    print(\"[5] Exit\")\n",
        "\n",
        "    menu = input(\"Pilih Menu> \")\n",
        "    print(\"\\n\")"
      ],
      "metadata": {
        "id": "ShYHV0S9szsB"
      },
      "execution_count": 2,
      "outputs": []
    },
    {
      "cell_type": "code",
      "source": [
        "buku = []\n",
        "# fungsi untuk menampilkan semua data\n",
        "def show_data():\n",
        "    if len(buku) <= 0:\n",
        "        print(\"BELUM ADA DATA\")\n",
        "    else:\n",
        "        for indeks in range(len(buku)):\n",
        "            print(\"[{}] {}\".format(indeks, buku[indeks]))\n",
        "\n",
        "# fungsi untuk menambah data\n",
        "def insert_data():\n",
        "    buku_baru = input(\"Judul Buku:\")\n",
        "    buku.append(buku_baru)\n",
        "\n",
        "# fungsi untuk edit data\n",
        "def edit_data():\n",
        "    show_data()\n",
        "    indeks = int(input(\"Inputan ID buku\"))\n",
        "    if indeks > len(buku):\n",
        "      print(\"ID salah\")\n",
        "    else:\n",
        "      judul_baru = input(\"Judul Buku:\")\n",
        "      buku[indeks] = judul_baru\n",
        "\n",
        "def delete_data():\n",
        "    show_data()\n",
        "    indeks = int(input(\"Inputan ID buku\"))\n",
        "    if indeks > len(buku):\n",
        "      print(\"ID salah\")\n",
        "    else:\n",
        "      buku.remove(buku[indeks])\n",
        "\n",
        "# fungsi untuk menampilkan menu\n",
        "def show_menu():\n",
        "    print(\"\\n\")\n",
        "    print(\"---------- MENU ----------\")\n",
        "    print(\"[1] Show Data\")\n",
        "    print(\"[2] Insert Data\")\n",
        "    print(\"[3] Edit Data\")\n",
        "    print(\"[4] Delete Data12345678\")\n",
        "    print(\"[5] Exit\")\n",
        "    menu = input(\"PILIH MENU>\")\n",
        "    print(\"\\n\")\n",
        "\n",
        "    if int(menu) == 1:\n",
        "      show_data()\n",
        "    elif int(menu) == 2:\n",
        "      insert_data()\n",
        "    elif int(menu) == 3:\n",
        "      edit_data()\n",
        "    elif int(menu) == 4:\n",
        "      delete_data()\n",
        "    elif int(menu) == 5:\n",
        "     exit()\n",
        "    else:\n",
        "      print(\"Salah pilih!\")\n",
        "\n",
        "if __name__ == \"__main__\":\n",
        "\n",
        "    while True:\n",
        "        show_menu()"
      ],
      "metadata": {
        "colab": {
          "base_uri": "https://localhost:8080/"
        },
        "id": "Bg9cEiMepiqs",
        "outputId": "018993d3-c502-42d8-b2a7-e2cf28024d64"
      },
      "execution_count": null,
      "outputs": [
        {
          "output_type": "stream",
          "name": "stdout",
          "text": [
            "\n",
            "\n",
            "---------- MENU ----------\n",
            "[1] Show Data\n",
            "[2] Insert Data\n",
            "[3] Edit Data\n",
            "[4] Delete Data12345678\n",
            "[5] Exit\n",
            "PILIH MENU>5\n",
            "\n",
            "\n",
            "\n",
            "\n",
            "---------- MENU ----------\n",
            "[1] Show Data\n",
            "[2] Insert Data\n",
            "[3] Edit Data\n",
            "[4] Delete Data12345678\n",
            "[5] Exit\n",
            "PILIH MENU>3\n",
            "\n",
            "\n",
            "BELUM ADA DATA\n",
            "Inputan ID buku4\n",
            "ID salah\n",
            "\n",
            "\n",
            "---------- MENU ----------\n",
            "[1] Show Data\n",
            "[2] Insert Data\n",
            "[3] Edit Data\n",
            "[4] Delete Data12345678\n",
            "[5] Exit\n",
            "PILIH MENU>2\n",
            "\n",
            "\n",
            "Judul Buku:1\n",
            "\n",
            "\n",
            "---------- MENU ----------\n",
            "[1] Show Data\n",
            "[2] Insert Data\n",
            "[3] Edit Data\n",
            "[4] Delete Data12345678\n",
            "[5] Exit\n"
          ]
        }
      ]
    }
  ]
}