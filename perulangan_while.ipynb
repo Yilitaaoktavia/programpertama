{
  "nbformat": 4,
  "nbformat_minor": 0,
  "metadata": {
    "colab": {
      "provenance": []
    },
    "kernelspec": {
      "name": "python3",
      "display_name": "Python 3"
    },
    "language_info": {
      "name": "python"
    }
  },
  "cells": [
    {
      "cell_type": "code",
      "source": [
        "i = 1\n",
        "\n",
        "while i <= 5:\n",
        "  print(i)\n",
        "  i += 1"
      ],
      "metadata": {
        "colab": {
          "base_uri": "https://localhost:8080/"
        },
        "id": "k6pNDOXYdy3u",
        "outputId": "04a5eff0-165e-45ac-f8ff-817dde9ea9c4"
      },
      "execution_count": 17,
      "outputs": [
        {
          "output_type": "stream",
          "name": "stdout",
          "text": [
            "1\n",
            "2\n",
            "3\n",
            "4\n",
            "5\n"
          ]
        }
      ]
    },
    {
      "cell_type": "code",
      "source": [
        "listKota = [\n",
        "    'Jakarta','Surabaya','Depok','Bekasi','Solo',\n",
        "    'Jogjakarta','Semarang','Makassar'\n",
        "]\n",
        "\n",
        "# bermain index\n",
        "i = 0\n",
        "while i < len(listKota):\n",
        "  print(listKota[i])\n",
        "  i += 1"
      ],
      "metadata": {
        "colab": {
          "base_uri": "https://localhost:8080/"
        },
        "id": "z26JjLmLeL-r",
        "outputId": "f59bf83b-7cd8-4e7c-fe07-f8d022e2f537"
      },
      "execution_count": 18,
      "outputs": [
        {
          "output_type": "stream",
          "name": "stdout",
          "text": [
            "Jakarta\n",
            "Surabaya\n",
            "Depok\n",
            "Bekasi\n",
            "Solo\n",
            "Jogjakarta\n",
            "Semarang\n",
            "Makassar\n"
          ]
        }
      ]
    },
    {
      "cell_type": "code",
      "source": [
        "# bermain pop\n",
        "while listKota:\n",
        "  print(listKota.pop(0))"
      ],
      "metadata": {
        "colab": {
          "base_uri": "https://localhost:8080/"
        },
        "id": "yFarUbkHeW8Y",
        "outputId": "1c7a1526-83bf-4488-ab21-2ada95502986"
      },
      "execution_count": 19,
      "outputs": [
        {
          "output_type": "stream",
          "name": "stdout",
          "text": [
            "Jakarta\n",
            "Surabaya\n",
            "Depok\n",
            "Bekasi\n",
            "Solo\n",
            "Jogjakarta\n",
            "Semarang\n",
            "Makassar\n"
          ]
        }
      ]
    },
    {
      "cell_type": "code",
      "source": [
        "a = int(input('Salah, masukan lagi: '))\n",
        "\n",
        "while a % 2 != 1 or a <= 50:\n",
        "  a = int(input('Salah, masukan lagi: '))\n",
        "\n",
        "print('benar')"
      ],
      "metadata": {
        "colab": {
          "base_uri": "https://localhost:8080/"
        },
        "id": "zdWpqOeqefrx",
        "outputId": "a6b41f49-c94b-452c-9ac1-20874c9bbb2a"
      },
      "execution_count": 20,
      "outputs": [
        {
          "output_type": "stream",
          "name": "stdout",
          "text": [
            "Salah, masukan lagi: 1\n",
            "Salah, masukan lagi: 2\n",
            "Salah, masukan lagi: 3\n",
            "Salah, masukan lagi: 10\n",
            "Salah, masukan lagi: 50\n",
            "Salah, masukan lagi: 52\n",
            "Salah, masukan lagi: 54\n",
            "Salah, masukan lagi: 55\n",
            "benar\n"
          ]
        }
      ]
    },
    {
      "cell_type": "code",
      "source": [
        "listKota = [\n",
        "    'Jakarta','Surabaya','Depok','Bekasi','Solo',\n",
        "    'Jogjakarta','Semarang','Makassar'\n",
        "]\n",
        "\n",
        "# skip jika i adalah bilangan genap\n",
        "# dan i lebih dari 0\n",
        "i = -1\n",
        "while i < len(listKota):\n",
        "  i += 1\n",
        "  if i % 2 == 0 and i > 0:\n",
        "    print('skip')\n",
        "    continue\n",
        "\n",
        "  # tidak dieksekusi ketika continue dipanggil\n",
        "  print(listKota[i])"
      ],
      "metadata": {
        "colab": {
          "base_uri": "https://localhost:8080/"
        },
        "id": "jpVJ3x3we4a1",
        "outputId": "f00fa2af-939f-4f5d-d926-0a9341aac71b"
      },
      "execution_count": 21,
      "outputs": [
        {
          "output_type": "stream",
          "name": "stdout",
          "text": [
            "Jakarta\n",
            "Surabaya\n",
            "skip\n",
            "Bekasi\n",
            "skip\n",
            "Jogjakarta\n",
            "skip\n",
            "Makassar\n",
            "skip\n"
          ]
        }
      ]
    },
    {
      "cell_type": "code",
      "source": [
        "listKota = [\n",
        "     'Jakarta','Surabaya','Depok','Bekasi','Solo',\n",
        "    'Jogjakarta','Semarang','Makassar'\n",
        "]\n",
        "\n",
        "kotaYangDicari = input('Masukan nama kota yang dicari: ')\n",
        "\n",
        "i = 0\n",
        "while i < len(listKota):\n",
        "  if listKota[i].lower() == kotaYangDicari.lower():\n",
        "    print('Ketem di index', i)\n",
        "    break\n",
        "\n",
        "  print('Bukan', listKota[i])\n",
        "  i += 1"
      ],
      "metadata": {
        "colab": {
          "base_uri": "https://localhost:8080/"
        },
        "id": "Vtl-SIh8e_pU",
        "outputId": "ed67d245-2669-42b7-caca-02777f47c9db"
      },
      "execution_count": 22,
      "outputs": [
        {
          "output_type": "stream",
          "name": "stdout",
          "text": [
            "Masukan nama kota yang dicari: bekasi\n",
            "Bukan Jakarta\n",
            "Bukan Surabaya\n",
            "Bukan Depok\n",
            "Ketem di index 3\n"
          ]
        }
      ]
    },
    {
      "cell_type": "code",
      "source": [
        "listKota = [\n",
        "    'Jakarta','Surabaya','Depok','Bekasi','Solo',\n",
        "    'Jogjakarta','Semarang','Makassar'\n",
        "]\n",
        "\n",
        "kotaYangDicari = input('Masukkan nama kota yang dicari: ')\n",
        "i = 0\n",
        "while i < len(listKota):\n",
        "  if listKota[i].lower() == kotaYangDicari.lower():\n",
        "    print('Ketemu di index', i)\n",
        "    break\n",
        "\n",
        "  print('Bukan ', listKota[i])\n",
        "  i += 1\n",
        "else:\n",
        "  print('Maaf, kota yang anda cari tidak ditemukan.')"
      ],
      "metadata": {
        "colab": {
          "base_uri": "https://localhost:8080/"
        },
        "id": "wowbc8eUfKdP",
        "outputId": "0efebac9-ced6-42c5-a192-f86a9f187d57"
      },
      "execution_count": 23,
      "outputs": [
        {
          "output_type": "stream",
          "name": "stdout",
          "text": [
            "Masukkan nama kota yang dicari: sidoarjo\n",
            "Bukan  Jakarta\n",
            "Bukan  Surabaya\n",
            "Bukan  Depok\n",
            "Bukan  Bekasi\n",
            "Bukan  Solo\n",
            "Bukan  Jogjakarta\n",
            "Bukan  Semarang\n",
            "Bukan  Makassar\n",
            "Maaf, kota yang anda cari tidak ditemukan.\n"
          ]
        }
      ]
    },
    {
      "cell_type": "code",
      "source": [],
      "metadata": {
        "id": "ndS8Jm2OfWNt"
      },
      "execution_count": null,
      "outputs": []
    }
  ]
}