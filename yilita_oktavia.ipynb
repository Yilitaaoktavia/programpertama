{
  "nbformat": 4,
  "nbformat_minor": 0,
  "metadata": {
    "colab": {
      "provenance": [],
      "toc_visible": true
    },
    "kernelspec": {
      "name": "python3",
      "display_name": "Python 3"
    },
    "language_info": {
      "name": "python"
    }
  },
  "cells": [
    {
      "cell_type": "code",
      "source": [
        "listkota = ['jakarta','surabaya','depok','bekasi','solo','jogjakarta','semarang','makasar']\n",
        "for kota in listkota:\n",
        "  print(kota)"
      ],
      "metadata": {
        "colab": {
          "base_uri": "https://localhost:8080/"
        },
        "id": "cDfX-DxrLxz9",
        "outputId": "e88484cc-a509-471a-a6d8-873c54cde934"
      },
      "execution_count": 5,
      "outputs": [
        {
          "output_type": "stream",
          "name": "stdout",
          "text": [
            "jakarta\n",
            "surabaya\n",
            "depok\n",
            "bekasi\n",
            "solo\n",
            "jogjakarta\n",
            "semarang\n",
            "makasar\n"
          ]
        }
      ]
    },
    {
      "cell_type": "code",
      "source": [
        "listkota = ['jakarta','surabaya','depok','bekasi','solo','jogjakarta','semarang','makasar',]\n",
        "for i, kota in enumerate(listkota):\n",
        "  print(i, kota)\n"
      ],
      "metadata": {
        "colab": {
          "base_uri": "https://localhost:8080/"
        },
        "id": "OxwbxVY5Msza",
        "outputId": "d3afa195-ba89-443b-97c9-5e32875be7da"
      },
      "execution_count": 8,
      "outputs": [
        {
          "output_type": "stream",
          "name": "stdout",
          "text": [
            "0 jakarta\n",
            "1 surabaya\n",
            "2 depok\n",
            "3 bekasi\n",
            "4 solo\n",
            "5 jogjakarta\n",
            "6 semarang\n",
            "7 makasar\n"
          ]
        }
      ]
    },
    {
      "cell_type": "code",
      "source": [
        "## 0 sampai 4\n",
        "for i in range(5):\n",
        "  print(\"perulangan ke -\", i)"
      ],
      "metadata": {
        "colab": {
          "base_uri": "https://localhost:8080/"
        },
        "id": "B6CYYpKSNjjr",
        "outputId": "b4e152b3-f35f-456a-f814-048640074c5e"
      },
      "execution_count": 9,
      "outputs": [
        {
          "output_type": "stream",
          "name": "stdout",
          "text": [
            "perulangan ke - 0\n",
            "perulangan ke - 1\n",
            "perulangan ke - 2\n",
            "perulangan ke - 3\n",
            "perulangan ke - 4\n"
          ]
        }
      ]
    },
    {
      "cell_type": "code",
      "source": [
        "## 10 sampai 15\n",
        "for i in range(10, 16):\n",
        "  print('i =', i)"
      ],
      "metadata": {
        "colab": {
          "base_uri": "https://localhost:8080/"
        },
        "id": "cTZ3p4MBOCbR",
        "outputId": "ddd3814b-1216-4335-c705-8ebcaceb0598"
      },
      "execution_count": 10,
      "outputs": [
        {
          "output_type": "stream",
          "name": "stdout",
          "text": [
            "i = 10\n",
            "i = 11\n",
            "i = 12\n",
            "i = 13\n",
            "i = 14\n",
            "i = 15\n"
          ]
        }
      ]
    },
    {
      "cell_type": "code",
      "source": [
        "## bilangan genap kelipatan 2\n",
        "for i in range(2, 12, 2):\n",
        "  print('i =', i)"
      ],
      "metadata": {
        "colab": {
          "base_uri": "https://localhost:8080/"
        },
        "id": "_6qbXMCmOTo_",
        "outputId": "2679d942-9e25-45db-832c-8863f4f5397a"
      },
      "execution_count": 11,
      "outputs": [
        {
          "output_type": "stream",
          "name": "stdout",
          "text": [
            "i = 2\n",
            "i = 4\n",
            "i = 6\n",
            "i = 8\n",
            "i = 10\n"
          ]
        }
      ]
    },
    {
      "cell_type": "code",
      "source": [
        "## bilangan ganjil kelipatan 2\n",
        "for bilangan_ganjil in range(1, 12, 2):\n",
        "  print(bilangan_ganjil)"
      ],
      "metadata": {
        "colab": {
          "base_uri": "https://localhost:8080/"
        },
        "id": "qXWFm8NPOrma",
        "outputId": "daa5dcb7-2d6b-4da0-8513-1f0660f8dfdb"
      },
      "execution_count": 12,
      "outputs": [
        {
          "output_type": "stream",
          "name": "stdout",
          "text": [
            "1\n",
            "3\n",
            "5\n",
            "7\n",
            "9\n",
            "11\n"
          ]
        }
      ]
    },
    {
      "cell_type": "code",
      "source": [
        "tuplebuah = ('mangga','jeruk','apel','pepaya')\n",
        "\n",
        "for buah in tuplebuah:\n",
        "  print(buah)"
      ],
      "metadata": {
        "colab": {
          "base_uri": "https://localhost:8080/"
        },
        "id": "vfa7Gw0NQb5s",
        "outputId": "57b0e4d1-47a5-40a5-b21f-e477a7cf48aa"
      },
      "execution_count": 21,
      "outputs": [
        {
          "output_type": "stream",
          "name": "stdout",
          "text": [
            "mangga\n",
            "jeruk\n",
            "apel\n",
            "pepaya\n"
          ]
        }
      ]
    },
    {
      "cell_type": "code",
      "source": [
        "for karakter in \"indonesian\":\n",
        "  print(karakter)"
      ],
      "metadata": {
        "colab": {
          "base_uri": "https://localhost:8080/"
        },
        "id": "5-P93gGuQxwN",
        "outputId": "8e3bbda1-d7de-44f8-ec64-891c4738932e"
      },
      "execution_count": 22,
      "outputs": [
        {
          "output_type": "stream",
          "name": "stdout",
          "text": [
            "i\n",
            "n\n",
            "d\n",
            "o\n",
            "n\n",
            "e\n",
            "s\n",
            "i\n",
            "a\n",
            "n\n"
          ]
        }
      ]
    },
    {
      "cell_type": "code",
      "source": [
        "for i in range(10, 20):\n",
        "  # skip jika i == 15\n",
        "  if (i == 15):\n",
        "    continue\n",
        "\n",
        "  print(i)\n",
        ""
      ],
      "metadata": {
        "colab": {
          "base_uri": "https://localhost:8080/"
        },
        "id": "HMNz-NP_Q-Cm",
        "outputId": "684f01d1-5c2e-4a68-da1c-0917ad5d84fd"
      },
      "execution_count": 29,
      "outputs": [
        {
          "output_type": "stream",
          "name": "stdout",
          "text": [
            "10\n",
            "11\n",
            "12\n",
            "13\n",
            "14\n",
            "16\n",
            "17\n",
            "18\n",
            "19\n"
          ]
        }
      ]
    },
    {
      "cell_type": "code",
      "source": [
        "for i in range(10, 20):\n",
        "  #hentikan jika i == 15\n",
        "  if (i == 15):\n",
        "    break\n",
        "\n",
        "print(i)"
      ],
      "metadata": {
        "colab": {
          "base_uri": "https://localhost:8080/"
        },
        "id": "t1-ZhfvBR248",
        "outputId": "cbce4353-ff57-4dc4-a893-e3a2c92424d0"
      },
      "execution_count": 33,
      "outputs": [
        {
          "output_type": "stream",
          "name": "stdout",
          "text": [
            "15\n"
          ]
        }
      ]
    },
    {
      "cell_type": "code",
      "source": [
        "listKota = ['jakarta','surabaya','depok','bekasi','solo','jogjakarta','semarang','makassar']\n",
        "\n",
        "\n",
        "for kota in listKota:\n",
        "  print(kota)\n",
        "else:\n",
        " print('Tidak ada lagi item yang tersisa')"
      ],
      "metadata": {
        "colab": {
          "base_uri": "https://localhost:8080/"
        },
        "id": "8sX2s4OpRsdN",
        "outputId": "4aa38a21-f85d-4c9d-a3ca-467a5d2586f7"
      },
      "execution_count": 44,
      "outputs": [
        {
          "output_type": "stream",
          "name": "stdout",
          "text": [
            "jakarta\n",
            "surabaya\n",
            "depok\n",
            "bekasi\n",
            "solo\n",
            "jogjakarta\n",
            "semarang\n",
            "makassar\n",
            "Tidak ada lagi item yang tersisa\n"
          ]
        }
      ]
    },
    {
      "cell_type": "code",
      "source": [
        "listKota = [\n",
        "    'Jakarta', 'Surabaya', 'Depok', 'Bekasi', 'Solo',\n",
        "    'Jogjakarta', 'Semarang', 'Makassar'\n",
        "]\n",
        "\n",
        "kotaYangDicari = input('Ketik nama kota yang kamu cari: ')\n",
        "\n",
        "for i, kota in enumerate(listKota):\n",
        "  # kita ubah katanya ke lowercase agar\n",
        "  # menjadi case insensitive\n",
        "  if kota.lower() == kotaYangDicari.lower():\n",
        "    print('Kota yang anda cari berada pada indeks', i)\n",
        "    break\n",
        "else:\n",
        "    print('Maaf, kota yang anda cari tidak ada')"
      ],
      "metadata": {
        "colab": {
          "base_uri": "https://localhost:8080/"
        },
        "id": "r-zp-2iERsi1",
        "outputId": "d1d03600-f7f3-440a-9725-8504014b76c7"
      },
      "execution_count": 6,
      "outputs": [
        {
          "output_type": "stream",
          "name": "stdout",
          "text": [
            "Ketik nama kota yang kamu cari: solo\n",
            "Kota yang anda cari berada pada indeks 4\n"
          ]
        }
      ]
    }
  ]
}