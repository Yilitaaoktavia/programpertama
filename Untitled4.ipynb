{
  "nbformat": 4,
  "nbformat_minor": 0,
  "metadata": {
    "colab": {
      "provenance": [],
      "toc_visible": true
    },
    "kernelspec": {
      "name": "python3",
      "display_name": "Python 3"
    },
    "language_info": {
      "name": "python"
    }
  },
  "cells": [
    {
      "cell_type": "code",
      "execution_count": 3,
      "metadata": {
        "colab": {
          "base_uri": "https://localhost:8080/"
        },
        "id": "QokeEh_qTtq3",
        "outputId": "9e22d8e6-8ee4-4145-fdcb-971e5d556547"
      },
      "outputs": [
        {
          "output_type": "stream",
          "name": "stdout",
          "text": [
            "kode program ini akan dieksekusi\n"
          ]
        }
      ],
      "source": [
        "if True:\n",
        "  print('kode program ini akan dieksekusi')\n"
      ]
    },
    {
      "cell_type": "code",
      "source": [
        "if False:\n",
        "  print('kode program ini tidak akan dieksekusi')\n",
        "\n",
        "  print('kode program ini akan selalu dieksekusi')"
      ],
      "metadata": {
        "id": "RPQsTLO0UPGW"
      },
      "execution_count": 11,
      "outputs": []
    },
    {
      "cell_type": "code",
      "source": [
        "nilai = 50\n",
        "print('nilai anda adalah:',nilai, '\\A')"
      ],
      "metadata": {
        "colab": {
          "base_uri": "https://localhost:8080/"
        },
        "id": "uZw7383fVcXp",
        "outputId": "ecc6677f-6f76-4801-c70f-4af754b98704"
      },
      "execution_count": 12,
      "outputs": [
        {
          "output_type": "stream",
          "name": "stdout",
          "text": [
            "nilai anda adalah: 50 \\A\n"
          ]
        }
      ]
    },
    {
      "cell_type": "code",
      "source": [
        "if nilai >= 70:\n",
        "  print('selamat, anda lulus!')\n",
        "else:\n",
        "  print('maaf,anda tidak lulus.')"
      ],
      "metadata": {
        "colab": {
          "base_uri": "https://localhost:8080/"
        },
        "id": "JtabUA51XSAU",
        "outputId": "d40cdebd-9bc8-4675-89bf-ddfff9fc455c"
      },
      "execution_count": 16,
      "outputs": [
        {
          "output_type": "stream",
          "name": "stdout",
          "text": [
            "maaf,anda tidak lulus.\n"
          ]
        }
      ]
    },
    {
      "cell_type": "code",
      "source": [
        "nilai = int(input('masukkan nilai: '))\n",
        "if nilai >= 90:\n",
        "  print('predikat A')\n",
        "elif nilai >= 80:\n",
        "  print('predikat B')\n",
        "elif nilai >= 60:\n",
        "  print('predikat C')\n",
        "elif nilai >= 40:\n",
        "  print('predikat D')\n",
        "else:\n",
        "  print('predikat E')"
      ],
      "metadata": {
        "colab": {
          "base_uri": "https://localhost:8080/"
        },
        "id": "nn39fDCxXWI_",
        "outputId": "0659a35e-bbaf-4cf4-fec2-4bb243764ffa"
      },
      "execution_count": 24,
      "outputs": [
        {
          "output_type": "stream",
          "name": "stdout",
          "text": [
            "masukkan nilai: 80\n",
            "predikat B\n"
          ]
        }
      ]
    },
    {
      "cell_type": "code",
      "source": [],
      "metadata": {
        "id": "3iLWQpUZZosL"
      },
      "execution_count": null,
      "outputs": []
    },
    {
      "cell_type": "code",
      "source": [
        "buah_yang_tersedia = ['jeruk', 'mangga', 'melon']\n",
        "buah_yang_dicari = input('Masukkan nama buah dalam huruf kecil: ')\n",
        "\n",
        "if (buah_yang_dicari in buah_yang_tersedia):\n",
        "  print('Buah yang anda cari tersedia!')\n",
        "else :\n",
        "  print('Buah yang anda cari tidak tersedia!')"
      ],
      "metadata": {
        "colab": {
          "base_uri": "https://localhost:8080/"
        },
        "id": "_jnIg-EJZDLs",
        "outputId": "42ea98b0-e902-413a-ba4f-5e705b5a2349"
      },
      "execution_count": 23,
      "outputs": [
        {
          "output_type": "stream",
          "name": "stdout",
          "text": [
            "Masukkan nama buah dalam huruf kecil: melon\n",
            "Buah yang anda cari tersedia!\n"
          ]
        }
      ]
    },
    {
      "cell_type": "code",
      "source": [
        "nilai = int(input('masukkan nilai: '))\n",
        "usia = int(input('masukkan usia: '))\n",
        "\n",
        "if nilai >= 75:\n",
        "  if (usia < 15):\n",
        "    print('selamat adek, kamu lulus! ')\n",
        "  else:\n",
        "    print('selamat kakak, kamu lulus! ')\n",
        "else:\n",
        "  if (usia < 15):\n",
        "    print('mohon maaf dek, coba lagi ya! ')\n",
        "  else:\n",
        "    print('mohon maaf kak, coba lagi ya! ')"
      ],
      "metadata": {
        "colab": {
          "base_uri": "https://localhost:8080/"
        },
        "id": "vgbcHTavZr0U",
        "outputId": "b3d7e92a-c7a9-40d4-cd11-097027ff7233"
      },
      "execution_count": 25,
      "outputs": [
        {
          "output_type": "stream",
          "name": "stdout",
          "text": [
            "masukkan nilai: 60\n",
            "masukkan usia: 15\n",
            "mohon maaf kak, coba lagi ya! \n"
          ]
        }
      ]
    }
  ]
}